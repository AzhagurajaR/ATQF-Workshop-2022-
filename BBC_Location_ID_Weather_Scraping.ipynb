{
  "nbformat": 4,
  "nbformat_minor": 0,
  "metadata": {
    "kernelspec": {
      "display_name": "Python 3",
      "language": "python",
      "name": "python3"
    },
    "language_info": {
      "codemirror_mode": {
        "name": "ipython",
        "version": 3
      },
      "file_extension": ".py",
      "mimetype": "text/x-python",
      "name": "python",
      "nbconvert_exporter": "python",
      "pygments_lexer": "ipython3",
      "version": "3.8.5"
    },
    "colab": {
      "name": "BBC_Location ID_Weather_Scraping.ipynb",
      "provenance": [],
      "collapsed_sections": [],
      "include_colab_link": true
    }
  },
  "cells": [
    {
      "cell_type": "markdown",
      "metadata": {
        "id": "view-in-github",
        "colab_type": "text"
      },
      "source": [
        "<a href=\"https://colab.research.google.com/github/AzhagurajaR/ATQF-Workshop-2022-/blob/main/BBC_Location_ID_Weather_Scraping.ipynb\" target=\"_parent\"><img src=\"https://colab.research.google.com/assets/colab-badge.svg\" alt=\"Open In Colab\"/></a>"
      ]
    },
    {
      "cell_type": "markdown",
      "metadata": {
        "id": "WsVuzd8zBh1h"
      },
      "source": [
        "# A tutorial to scrape the location ID of any city in BBC Weather. \n",
        "This code snippet takes city name as input and it hits the BBC Weahter API with a request for location ID. This location ID is used as input in the next part of the code to scrape weather forecast for the city using this location ID.  \n",
        "\n",
        "\n",
        "*Web scraping might not be legal always. It is a good idea to check the terms of the website you plan to scrape before proceeding. Also, if your code requests a url from a server multiple times, it is a good practice to either cache your requests, or insert a timed delay between consecutive requests.*"
      ]
    },
    {
      "cell_type": "code",
      "metadata": {
        "id": "FVSmmYGpCBvc"
      },
      "source": [
        "import os\n",
        "\n",
        "import requests               # to get the webpage\n",
        "import json                   # to convert API to json format\n",
        "\n",
        "from urllib.parse import urlencode\n",
        "import numpy as np\n",
        "import pandas as pd\n",
        "import re                     # regular expression operators"
      ],
      "execution_count": 1,
      "outputs": []
    },
    {
      "cell_type": "code",
      "metadata": {
        "id": "XK0bYqe9DAFs",
        "colab": {
          "base_uri": "https://localhost:8080/",
          "height": 53
        },
        "outputId": "4a9df97b-a38e-410f-ef94-f9c9ff8640c5"
      },
      "source": [
        "test_city = \"Mumbai\"\n",
        "location_url = 'https://locator-service.api.bbci.co.uk/locations?' + urlencode({\n",
        "   'api_key': 'AGbFAKx58hyjQScCXIYrxuEwJh2W2cmv',\n",
        "   's': test_city,\n",
        "   'stack': 'aws',\n",
        "   'locale': 'en',\n",
        "   'filter': 'international',\n",
        "   'place-types': 'settlement,airport,district',\n",
        "   'order': 'importance',\n",
        "   'a': 'true',\n",
        "   'format': 'json'\n",
        "})\n",
        "location_url"
      ],
      "execution_count": 2,
      "outputs": [
        {
          "output_type": "execute_result",
          "data": {
            "text/plain": [
              "'https://locator-service.api.bbci.co.uk/locations?api_key=AGbFAKx58hyjQScCXIYrxuEwJh2W2cmv&s=Mumbai&stack=aws&locale=en&filter=international&place-types=settlement%2Cairport%2Cdistrict&order=importance&a=true&format=json'"
            ],
            "application/vnd.google.colaboratory.intrinsic+json": {
              "type": "string"
            }
          },
          "metadata": {},
          "execution_count": 2
        }
      ]
    },
    {
      "cell_type": "code",
      "metadata": {
        "id": "5fXGZdiUDPTs",
        "colab": {
          "base_uri": "https://localhost:8080/"
        },
        "outputId": "cb4800fc-2e0e-4d8e-c580-cf457806fcc5"
      },
      "source": [
        "result = requests.get(location_url).json()\n",
        "result"
      ],
      "execution_count": 3,
      "outputs": [
        {
          "output_type": "execute_result",
          "data": {
            "text/plain": [
              "{'response': {'results': {'results': [{'container': 'India',\n",
              "     'containerId': 1269750,\n",
              "     'country': 'IN',\n",
              "     'id': '1275339',\n",
              "     'language': 'en',\n",
              "     'latitude': 19.07283,\n",
              "     'longitude': 72.88261,\n",
              "     'name': 'Mumbai',\n",
              "     'placeType': 'settlement',\n",
              "     'timezone': 'Asia/Kolkata'}],\n",
              "   'totalResults': 1}}}"
            ]
          },
          "metadata": {},
          "execution_count": 3
        }
      ]
    },
    {
      "cell_type": "code",
      "metadata": {
        "id": "rXM4oYcwDgzC",
        "colab": {
          "base_uri": "https://localhost:8080/",
          "height": 35
        },
        "outputId": "6d624adc-cc21-450d-e003-3d9ee6aa92d2"
      },
      "source": [
        "# Print location id\n",
        "result['response']['results']['results'][0]['id']"
      ],
      "execution_count": 4,
      "outputs": [
        {
          "output_type": "execute_result",
          "data": {
            "text/plain": [
              "'1275339'"
            ],
            "application/vnd.google.colaboratory.intrinsic+json": {
              "type": "string"
            }
          },
          "metadata": {},
          "execution_count": 4
        }
      ]
    },
    {
      "cell_type": "markdown",
      "metadata": {
        "id": "z7-r0mgnDrS2"
      },
      "source": [
        "# Creating a function to output location id by taking any city name as input."
      ]
    },
    {
      "cell_type": "code",
      "metadata": {
        "id": "JvWzOsPVBhmX"
      },
      "source": [
        "def getlocid(city):\n",
        "    city = city.lower() # convert city name to lowercase to standardize format\n",
        "    # Convert into an API call using URL encoding\n",
        "    location_url = 'https://locator-service.api.bbci.co.uk/locations?' + urlencode({\n",
        "      'api_key': 'AGbFAKx58hyjQScCXIYrxuEwJh2W2cmv',\n",
        "      's': city,\n",
        "      'stack': 'aws',\n",
        "      'locale': 'en',\n",
        "      'filter': 'international',\n",
        "      'place-types': 'settlement,airport,district',\n",
        "      'order': 'importance',\n",
        "      'a': 'true',\n",
        "      'format': 'json'\n",
        "    })\n",
        "    result = requests.get(location_url).json()\n",
        "    locid = result['response']['results']['results'][0]['id']\n",
        "    return locid"
      ],
      "execution_count": 5,
      "outputs": []
    },
    {
      "cell_type": "code",
      "metadata": {
        "id": "KEiuQasXBhal",
        "colab": {
          "base_uri": "https://localhost:8080/",
          "height": 35
        },
        "outputId": "1d90d6bb-60bc-4dcd-c97e-c937fda72812"
      },
      "source": [
        "getlocid('Chennai')"
      ],
      "execution_count": 6,
      "outputs": [
        {
          "output_type": "execute_result",
          "data": {
            "text/plain": [
              "'1264527'"
            ],
            "application/vnd.google.colaboratory.intrinsic+json": {
              "type": "string"
            }
          },
          "metadata": {},
          "execution_count": 6
        }
      ]
    },
    {
      "cell_type": "code",
      "metadata": {
        "id": "deuhR31JleOH"
      },
      "source": [
        ""
      ],
      "execution_count": null,
      "outputs": []
    }
  ]
}